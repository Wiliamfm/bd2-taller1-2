{
 "cells": [
  {
   "cell_type": "code",
   "execution_count": null,
   "metadata": {},
   "outputs": [],
   "source": [
    "import psycopg"
   ]
  },
  {
   "cell_type": "code",
   "execution_count": null,
   "metadata": {},
   "outputs": [],
   "source": [
    "def set_bill(connection, cart_id, shipping_type_id, pay_method_id, bill_state_id, total):\n",
    "    try:\n",
    "        cur= connection.execute('''\n",
    "            insert into bill (bill_date, shopping_cart, shipping_type, pay_method, bill_state, total)\n",
    "            values (now(), %s, %s, %s, %s ,%s)\n",
    "            returning id;\n",
    "        ''', (cart_id, shipping_type_id, pay_method_id, bill_state_id, total))\n",
    "        return cur.fetchone()\n",
    "    except Exception as e:\n",
    "        print(e)\n",
    "        print('Can\\'t create bill')\n",
    "        connection.rollback()\n",
    "        return False"
   ]
  },
  {
   "cell_type": "code",
   "execution_count": null,
   "metadata": {},
   "outputs": [],
   "source": [
    "def set_shopping_cart(connection, amount, cart_condition_id, app_user_id):\n",
    "    try:\n",
    "        cur= connection.execute('''\n",
    "            insert into shopping_cart (amount, cart_condition, app_user)\n",
    "            values (%s, %s, %s)\n",
    "            returning id;\n",
    "        ''', (amount, cart_condition_id, app_user_id))\n",
    "        return cur.fetchone()\n",
    "    except Exception as e:\n",
    "        print(e)\n",
    "        print('Can\\'t create shopping cart')\n",
    "        connection.rollback()\n",
    "        return False"
   ]
  },
  {
   "cell_type": "code",
   "execution_count": null,
   "metadata": {},
   "outputs": [],
   "source": [
    "def set_products(connection, shopping_cart_id, variants):\n",
    "    try:\n",
    "        for v in variants:\n",
    "            cur= connection.execute('''\n",
    "                insert into shopping_product (variant, shopping_cart)\n",
    "                values (%s, %s)\n",
    "                returning id;\n",
    "            ''', (int(v), shopping_cart_id))\n",
    "        return True\n",
    "    except Exception as e:\n",
    "        print(e)\n",
    "        print(f'Can not set products to the cart with id: {shopping_cart_id}')\n",
    "        connection.rollback()\n",
    "        return False"
   ]
  },
  {
   "cell_type": "code",
   "execution_count": null,
   "metadata": {},
   "outputs": [],
   "source": [
    "def set_order(connection):\n",
    "    try:\n",
    "        amount= int(input('Enter the quantity of items'))\n",
    "        cart_condition_id= int(input('Enter cart condition id'))\n",
    "        app_user_id= input('Enter user document (id)')\n",
    "        shopping_cart= set_shopping_cart(connection= connection, amount= amount, cart_condition_id= cart_condition_id, app_user_id= app_user_id)\n",
    "        if shopping_cart:\n",
    "            variants= input('Enter the variants to buy, separate by commas (Example: 1,2,3,4,5)')\n",
    "            variants= variants.split(',')\n",
    "            if set_products(connection= connection, shopping_cart_id= shopping_cart[0], variants= variants):\n",
    "                shipping_type_id= int(input('Enter the shipping type id'))\n",
    "                pay_method_id= int(input('Enter the pay method id'))\n",
    "                bill_state_id= int(input('Enter bill state id'))\n",
    "                total= int(input('Enter the total cost'))\n",
    "                bill= set_bill(connection= connection, cart_id= shopping_cart[0],shipping_type_id= shipping_type_id, pay_method_id= pay_method_id, bill_state_id= bill_state_id, total= total)\n",
    "                if bill:\n",
    "                    connection.commit()\n",
    "                    return True\n",
    "                else:\n",
    "                    connection.rollback()\n",
    "                    return False\n",
    "            else:\n",
    "                return False\n",
    "        else:\n",
    "            connection.rollback()\n",
    "            return False\n",
    "    except Exception as e:\n",
    "        print(e)\n",
    "        print('Can not create order')\n",
    "        return False\n",
    "    finally:\n",
    "        conn.close()"
   ]
  },
  {
   "cell_type": "code",
   "execution_count": null,
   "metadata": {},
   "outputs": [],
   "source": [
    "conn= psycopg.connect('''\n",
    "    host= localhost\n",
    "    dbname= taller_1\n",
    "    user= postgres\n",
    "    password= 1234\n",
    "''')\n",
    "set_order(connection= conn)"
   ]
  }
 ],
 "metadata": {
  "interpreter": {
   "hash": "3d32c654a933179a090880d24544c38028ecd9a6c44cb36ddf2f7357c85d820a"
  },
  "kernelspec": {
   "display_name": "Python 3.10.2 64-bit",
   "language": "python",
   "name": "python3"
  },
  "language_info": {
   "codemirror_mode": {
    "name": "ipython",
    "version": 3
   },
   "file_extension": ".py",
   "mimetype": "text/x-python",
   "name": "python",
   "nbconvert_exporter": "python",
   "pygments_lexer": "ipython3",
   "version": "3.10.2"
  },
  "orig_nbformat": 4
 },
 "nbformat": 4,
 "nbformat_minor": 2
}
